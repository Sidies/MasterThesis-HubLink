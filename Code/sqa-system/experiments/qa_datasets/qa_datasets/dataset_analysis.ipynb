{
 "cells": [
  {
   "cell_type": "markdown",
   "id": "d5954446",
   "metadata": {},
   "source": [
    "### Overview of the Generated QA Dataset\n",
    "This notebook provides an overview of the data that is included in the generated QA dataset. "
   ]
  },
  {
   "cell_type": "markdown",
   "id": "48277e4a",
   "metadata": {},
   "source": [
    "#### Columns of the Dataset"
   ]
  },
  {
   "cell_type": "code",
   "execution_count": 1,
   "id": "0304fae4",
   "metadata": {},
   "outputs": [
    {
     "data": {
      "text/plain": [
       "['uid',\n",
       " 'question',\n",
       " 'golden_answer',\n",
       " 'source_ids',\n",
       " 'golden_doc_chunks',\n",
       " 'golden_triples',\n",
       " 'is_generated_with',\n",
       " 'topic_entity_id',\n",
       " 'topic_entity_value',\n",
       " 'hops',\n",
       " 'based_on_template',\n",
       " 'use_case',\n",
       " 'retrieval_operation',\n",
       " 'semi-typed',\n",
       " 'updated template',\n",
       " 'graph_representation',\n",
       " 'answer_format',\n",
       " 'answer_type',\n",
       " 'condition_type',\n",
       " 'used_in_reduced',\n",
       " 'notes']"
      ]
     },
     "execution_count": 1,
     "metadata": {},
     "output_type": "execute_result"
    }
   ],
   "source": [
    "import os\n",
    "import pandas as pd\n",
    "\n",
    "dataset_path = os.path.join(os.getcwd(), 'full', 'deep_distributed_graph_dataset.csv')\n",
    "dataset_df = pd.read_csv(dataset_path)\n",
    "\n",
    "dataset_df.columns.tolist()"
   ]
  },
  {
   "cell_type": "markdown",
   "id": "6e4111dc",
   "metadata": {},
   "source": [
    "#### Distribution of Semi-Typed Questions"
   ]
  },
  {
   "cell_type": "code",
   "execution_count": 3,
   "id": "e7b1f145",
   "metadata": {},
   "outputs": [
    {
     "data": {
      "text/plain": [
       "semi-typed\n",
       "True     87\n",
       "False    83\n",
       "Name: count, dtype: int64"
      ]
     },
     "execution_count": 3,
     "metadata": {},
     "output_type": "execute_result"
    }
   ],
   "source": [
    "typed_counts = dataset_df['semi-typed'].value_counts()\n",
    "typed_counts"
   ]
  },
  {
   "cell_type": "markdown",
   "id": "3599ad11",
   "metadata": {},
   "source": [
    "#### Distribution of Use Cases"
   ]
  },
  {
   "cell_type": "code",
   "execution_count": 4,
   "id": "5119ccd0",
   "metadata": {},
   "outputs": [
    {
     "data": {
      "text/plain": [
       "use_case\n",
       "1    24\n",
       "2    24\n",
       "3    32\n",
       "4    28\n",
       "5    33\n",
       "6    29\n",
       "Name: count, dtype: int64"
      ]
     },
     "execution_count": 4,
     "metadata": {},
     "output_type": "execute_result"
    }
   ],
   "source": [
    "use_case_counts = dataset_df['use_case'].value_counts()\n",
    "use_case_counts = use_case_counts.sort_index()\n",
    "use_case_counts"
   ]
  },
  {
   "cell_type": "markdown",
   "id": "b3e522d1",
   "metadata": {},
   "source": [
    "#### Distribution of Retrieval Operations"
   ]
  },
  {
   "cell_type": "code",
   "execution_count": 5,
   "id": "736b8bbb",
   "metadata": {},
   "outputs": [
    {
     "data": {
      "text/plain": [
       "retrieval_operation\n",
       "aggregation     24\n",
       "counting        24\n",
       "ranking         24\n",
       "comparative     24\n",
       "relationship    24\n",
       "basic           18\n",
       "negation        16\n",
       "superlative     16\n",
       "Name: count, dtype: int64"
      ]
     },
     "execution_count": 5,
     "metadata": {},
     "output_type": "execute_result"
    }
   ],
   "source": [
    "retrieval_operation_counts = dataset_df['retrieval_operation'].value_counts()\n",
    "retrieval_operation_counts"
   ]
  },
  {
   "cell_type": "markdown",
   "id": "790300ce",
   "metadata": {},
   "source": [
    "#### Distribution of Use Case to Retrieval Operation Pairs"
   ]
  },
  {
   "cell_type": "code",
   "execution_count": 6,
   "id": "bded5147",
   "metadata": {},
   "outputs": [
    {
     "data": {
      "text/html": [
       "<div>\n",
       "<style scoped>\n",
       "    .dataframe tbody tr th:only-of-type {\n",
       "        vertical-align: middle;\n",
       "    }\n",
       "\n",
       "    .dataframe tbody tr th {\n",
       "        vertical-align: top;\n",
       "    }\n",
       "\n",
       "    .dataframe thead th {\n",
       "        text-align: right;\n",
       "    }\n",
       "</style>\n",
       "<table border=\"1\" class=\"dataframe\">\n",
       "  <thead>\n",
       "    <tr style=\"text-align: right;\">\n",
       "      <th>use_case</th>\n",
       "      <th>1</th>\n",
       "      <th>2</th>\n",
       "      <th>3</th>\n",
       "      <th>4</th>\n",
       "      <th>5</th>\n",
       "      <th>6</th>\n",
       "    </tr>\n",
       "    <tr>\n",
       "      <th>retrieval_operation</th>\n",
       "      <th></th>\n",
       "      <th></th>\n",
       "      <th></th>\n",
       "      <th></th>\n",
       "      <th></th>\n",
       "      <th></th>\n",
       "    </tr>\n",
       "  </thead>\n",
       "  <tbody>\n",
       "    <tr>\n",
       "      <th>aggregation</th>\n",
       "      <td>4</td>\n",
       "      <td>4</td>\n",
       "      <td>4</td>\n",
       "      <td>4</td>\n",
       "      <td>4</td>\n",
       "      <td>4</td>\n",
       "    </tr>\n",
       "    <tr>\n",
       "      <th>basic</th>\n",
       "      <td>4</td>\n",
       "      <td>4</td>\n",
       "      <td>4</td>\n",
       "      <td>1</td>\n",
       "      <td>4</td>\n",
       "      <td>1</td>\n",
       "    </tr>\n",
       "    <tr>\n",
       "      <th>comparative</th>\n",
       "      <td>4</td>\n",
       "      <td>4</td>\n",
       "      <td>4</td>\n",
       "      <td>4</td>\n",
       "      <td>4</td>\n",
       "      <td>4</td>\n",
       "    </tr>\n",
       "    <tr>\n",
       "      <th>counting</th>\n",
       "      <td>4</td>\n",
       "      <td>4</td>\n",
       "      <td>4</td>\n",
       "      <td>4</td>\n",
       "      <td>4</td>\n",
       "      <td>4</td>\n",
       "    </tr>\n",
       "    <tr>\n",
       "      <th>negation</th>\n",
       "      <td>0</td>\n",
       "      <td>0</td>\n",
       "      <td>4</td>\n",
       "      <td>4</td>\n",
       "      <td>4</td>\n",
       "      <td>4</td>\n",
       "    </tr>\n",
       "    <tr>\n",
       "      <th>ranking</th>\n",
       "      <td>4</td>\n",
       "      <td>4</td>\n",
       "      <td>4</td>\n",
       "      <td>4</td>\n",
       "      <td>4</td>\n",
       "      <td>4</td>\n",
       "    </tr>\n",
       "    <tr>\n",
       "      <th>relationship</th>\n",
       "      <td>4</td>\n",
       "      <td>4</td>\n",
       "      <td>4</td>\n",
       "      <td>4</td>\n",
       "      <td>4</td>\n",
       "      <td>4</td>\n",
       "    </tr>\n",
       "    <tr>\n",
       "      <th>superlative</th>\n",
       "      <td>0</td>\n",
       "      <td>0</td>\n",
       "      <td>4</td>\n",
       "      <td>3</td>\n",
       "      <td>5</td>\n",
       "      <td>4</td>\n",
       "    </tr>\n",
       "  </tbody>\n",
       "</table>\n",
       "</div>"
      ],
      "text/plain": [
       "use_case             1  2  3  4  5  6\n",
       "retrieval_operation                  \n",
       "aggregation          4  4  4  4  4  4\n",
       "basic                4  4  4  1  4  1\n",
       "comparative          4  4  4  4  4  4\n",
       "counting             4  4  4  4  4  4\n",
       "negation             0  0  4  4  4  4\n",
       "ranking              4  4  4  4  4  4\n",
       "relationship         4  4  4  4  4  4\n",
       "superlative          0  0  4  3  5  4"
      ]
     },
     "execution_count": 6,
     "metadata": {},
     "output_type": "execute_result"
    }
   ],
   "source": [
    "use_case_and_retrieval_operation_counts = dataset_df.groupby(['use_case', 'retrieval_operation']).size().reset_index(name='count')\n",
    "use_case_and_retrieval_operation_counts = use_case_and_retrieval_operation_counts.sort_values(by=['use_case', 'retrieval_operation'])\n",
    "\n",
    "use_case_and_retrieval_operation_matrix = use_case_and_retrieval_operation_counts.pivot(index='retrieval_operation', columns='use_case', values='count').fillna(0)\n",
    "use_case_and_retrieval_operation_matrix = use_case_and_retrieval_operation_matrix.astype(int)\n",
    "use_case_and_retrieval_operation_matrix"
   ]
  },
  {
   "cell_type": "markdown",
   "id": "22a91aa3",
   "metadata": {},
   "source": [
    "#### Distribution of Condition Type - Taxonomy Category"
   ]
  },
  {
   "cell_type": "code",
   "execution_count": 7,
   "id": "d8eb1fdb",
   "metadata": {},
   "outputs": [
    {
     "data": {
      "text/plain": [
       "condition_type\n",
       "named entity              133\n",
       "named entity, temporal     37\n",
       "Name: count, dtype: int64"
      ]
     },
     "execution_count": 7,
     "metadata": {},
     "output_type": "execute_result"
    }
   ],
   "source": [
    "condition_type_counts = dataset_df['condition_type'].value_counts()\n",
    "condition_type_counts"
   ]
  },
  {
   "cell_type": "markdown",
   "id": "7cb5da03",
   "metadata": {},
   "source": [
    "#### Distribution of Answer Format - Taxonomy Category"
   ]
  },
  {
   "cell_type": "code",
   "execution_count": 8,
   "id": "fe0a0814",
   "metadata": {},
   "outputs": [
    {
     "data": {
      "text/plain": [
       "answer_format\n",
       "enumerative    61\n",
       "simple         58\n",
       "explanatory    51\n",
       "Name: count, dtype: int64"
      ]
     },
     "execution_count": 8,
     "metadata": {},
     "output_type": "execute_result"
    }
   ],
   "source": [
    "answer_format_counts = dataset_df['answer_format'].value_counts()\n",
    "answer_format_counts"
   ]
  },
  {
   "cell_type": "markdown",
   "id": "9656c863",
   "metadata": {},
   "source": [
    "#### Distribution of Graph Representation - Taxonomy Category"
   ]
  },
  {
   "cell_type": "code",
   "execution_count": 9,
   "id": "d479e345",
   "metadata": {},
   "outputs": [
    {
     "data": {
      "text/plain": [
       "graph_representation\n",
       "multi fact     152\n",
       "single fact     18\n",
       "Name: count, dtype: int64"
      ]
     },
     "execution_count": 9,
     "metadata": {},
     "output_type": "execute_result"
    }
   ],
   "source": [
    "graph_representation_counts = dataset_df['graph_representation'].value_counts()\n",
    "graph_representation_counts"
   ]
  },
  {
   "cell_type": "markdown",
   "id": "7575f023",
   "metadata": {},
   "source": [
    "#### Distribution of Answer Type - Taxonomy Category"
   ]
  },
  {
   "cell_type": "code",
   "execution_count": 10,
   "id": "453ea1b9",
   "metadata": {},
   "outputs": [
    {
     "data": {
      "text/plain": [
       "answer_type\n",
       "named entity                           86\n",
       "description, quantitative              24\n",
       "quantitative                           20\n",
       "description, quantitative, temporal    13\n",
       "named entity, temporal                  9\n",
       "description, named entity, temporal     8\n",
       "description, named entity               6\n",
       "other                                   2\n",
       "boolean                                 2\n",
       "Name: count, dtype: int64"
      ]
     },
     "execution_count": 10,
     "metadata": {},
     "output_type": "execute_result"
    }
   ],
   "source": [
    "answer_type_counts = dataset_df['answer_type'].value_counts()\n",
    "answer_type_counts"
   ]
  },
  {
   "cell_type": "markdown",
   "id": "24e3a3d9",
   "metadata": {},
   "source": [
    "#### Distribution of Hops Required"
   ]
  },
  {
   "cell_type": "code",
   "execution_count": 11,
   "id": "bfdf0553",
   "metadata": {},
   "outputs": [
    {
     "data": {
      "text/plain": [
       "hops\n",
       "1      1\n",
       "2      6\n",
       "3     24\n",
       "4      5\n",
       "5     33\n",
       "6    101\n",
       "Name: count, dtype: int64"
      ]
     },
     "execution_count": 11,
     "metadata": {},
     "output_type": "execute_result"
    }
   ],
   "source": [
    "hop_amount_counts = dataset_df['hops'].value_counts()\n",
    "hop_amount_counts = hop_amount_counts.sort_index()\n",
    "hop_amount_counts"
   ]
  }
 ],
 "metadata": {
  "kernelspec": {
   "display_name": ".venv",
   "language": "python",
   "name": "python3"
  },
  "language_info": {
   "codemirror_mode": {
    "name": "ipython",
    "version": 3
   },
   "file_extension": ".py",
   "mimetype": "text/x-python",
   "name": "python",
   "nbconvert_exporter": "python",
   "pygments_lexer": "ipython3",
   "version": "3.13.2"
  }
 },
 "nbformat": 4,
 "nbformat_minor": 5
}
